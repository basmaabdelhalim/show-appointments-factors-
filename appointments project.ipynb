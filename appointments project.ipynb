{
 "cells": [
  {
   "cell_type": "markdown",
   "id": "04fb5263",
   "metadata": {},
   "source": [
    "# Welcome to showing up in appointment project!\n",
    "\n",
    "Project: Investigate a  showappointments Dataset - ---[showappointments]( https://d17h27t6h515a5.cloudfront.net/topher/2017/October/59dd2e9a_noshowappointments-kagglev2-may-2016/noshowappointments-kagglev2-may-2016.csv.)---\n",
    "Table of Contents\n",
    "Introduction\n",
    "Data Wrangling\n",
    "Exploratory Data Analysis\n",
    "Conclusions"
   ]
  },
  {
   "cell_type": "markdown",
   "id": "22b8647e",
   "metadata": {},
   "source": [
    "# Dataset Description \n",
    "\n",
    "This dataset collects information from 100k medical appointments in Brazil and is focused on the question of whether or not patients show up for their appointment. A number of characteristics about the patient are included in each row.\n",
    "\n",
    "‘ScheduledDay’ tells us on what day the patient set up their appointment.\n",
    "‘Neighborhood’ indicates the location of the hospital.\n",
    "‘Scholarship’ indicates whether or not the patient is enrolled in Brasilian welfare program Bolsa Família.\n",
    "Be careful about the encoding of the last column: it says ‘No’ if the patient showed up to their appointment, and ‘Yes’ if they did not show up.\n",
    "\n",
    "Question(s) for Analysis :\n",
    "DO ScheduledDay affect showing up in our dataset ?\n",
    "Do Gender affect showing up in our dataset ?\n",
    "Do Scholarship affect showing up in our dataset ?\n",
    "Do Age affect showing up in our dataset ?\n",
    "Do SMS recieved affect showing up in our dataset ?\n",
    "What factors are important for us to know in order to predict if a patient will show up for their scheduled appointment?\n"
   ]
  },
  {
   "cell_type": "markdown",
   "id": "6675419f",
   "metadata": {},
   "source": [
    "\n",
    "import pandas as pd\n",
    "import numpy as np\n",
    "import matplotlib.pyplot as plt \n",
    "import seaborn as sns\n",
    "%matplotlib inline"
   ]
  },
  {
   "cell_type": "markdown",
   "id": "93830578",
   "metadata": {},
   "source": [
    "# Data Wrangling:\n",
    "How many rows and columns exist in the dataframe? \n",
    "What types of columns that i will deal with is it int or object ?\n",
    "Is there any useless columns ?\n",
    "Is there any null values to drop ?\n",
    "Is there any duplicated value to drop?\n",
    "Is there any missing value?\n"
   ]
  },
  {
   "cell_type": "code",
   "execution_count": 19,
   "id": "4a723858",
   "metadata": {},
   "outputs": [],
   "source": [
    "app_df = pd.read_csv('appointments.csv')"
   ]
  },
  {
   "cell_type": "code",
   "execution_count": 20,
   "id": "54fd5391",
   "metadata": {},
   "outputs": [
    {
     "data": {
      "text/html": [
       "<div>\n",
       "<style scoped>\n",
       "    .dataframe tbody tr th:only-of-type {\n",
       "        vertical-align: middle;\n",
       "    }\n",
       "\n",
       "    .dataframe tbody tr th {\n",
       "        vertical-align: top;\n",
       "    }\n",
       "\n",
       "    .dataframe thead th {\n",
       "        text-align: right;\n",
       "    }\n",
       "</style>\n",
       "<table border=\"1\" class=\"dataframe\">\n",
       "  <thead>\n",
       "    <tr style=\"text-align: right;\">\n",
       "      <th></th>\n",
       "      <th>PatientId</th>\n",
       "      <th>AppointmentID</th>\n",
       "      <th>Gender</th>\n",
       "      <th>ScheduledDay</th>\n",
       "      <th>AppointmentDay</th>\n",
       "      <th>Age</th>\n",
       "      <th>Neighbourhood</th>\n",
       "      <th>Scholarship</th>\n",
       "      <th>Hipertension</th>\n",
       "      <th>Diabetes</th>\n",
       "      <th>Alcoholism</th>\n",
       "      <th>Handcap</th>\n",
       "      <th>SMS_received</th>\n",
       "      <th>No-show</th>\n",
       "    </tr>\n",
       "  </thead>\n",
       "  <tbody>\n",
       "    <tr>\n",
       "      <th>0</th>\n",
       "      <td>2.987250e+13</td>\n",
       "      <td>5642903</td>\n",
       "      <td>F</td>\n",
       "      <td>2016-04-29T18:38:08Z</td>\n",
       "      <td>2016-04-29T00:00:00Z</td>\n",
       "      <td>62</td>\n",
       "      <td>JARDIM DA PENHA</td>\n",
       "      <td>0</td>\n",
       "      <td>1</td>\n",
       "      <td>0</td>\n",
       "      <td>0</td>\n",
       "      <td>0</td>\n",
       "      <td>0</td>\n",
       "      <td>No</td>\n",
       "    </tr>\n",
       "    <tr>\n",
       "      <th>1</th>\n",
       "      <td>5.589978e+14</td>\n",
       "      <td>5642503</td>\n",
       "      <td>M</td>\n",
       "      <td>2016-04-29T16:08:27Z</td>\n",
       "      <td>2016-04-29T00:00:00Z</td>\n",
       "      <td>56</td>\n",
       "      <td>JARDIM DA PENHA</td>\n",
       "      <td>0</td>\n",
       "      <td>0</td>\n",
       "      <td>0</td>\n",
       "      <td>0</td>\n",
       "      <td>0</td>\n",
       "      <td>0</td>\n",
       "      <td>No</td>\n",
       "    </tr>\n",
       "    <tr>\n",
       "      <th>2</th>\n",
       "      <td>4.262962e+12</td>\n",
       "      <td>5642549</td>\n",
       "      <td>F</td>\n",
       "      <td>2016-04-29T16:19:04Z</td>\n",
       "      <td>2016-04-29T00:00:00Z</td>\n",
       "      <td>62</td>\n",
       "      <td>MATA DA PRAIA</td>\n",
       "      <td>0</td>\n",
       "      <td>0</td>\n",
       "      <td>0</td>\n",
       "      <td>0</td>\n",
       "      <td>0</td>\n",
       "      <td>0</td>\n",
       "      <td>No</td>\n",
       "    </tr>\n",
       "    <tr>\n",
       "      <th>3</th>\n",
       "      <td>8.679512e+11</td>\n",
       "      <td>5642828</td>\n",
       "      <td>F</td>\n",
       "      <td>2016-04-29T17:29:31Z</td>\n",
       "      <td>2016-04-29T00:00:00Z</td>\n",
       "      <td>8</td>\n",
       "      <td>PONTAL DE CAMBURI</td>\n",
       "      <td>0</td>\n",
       "      <td>0</td>\n",
       "      <td>0</td>\n",
       "      <td>0</td>\n",
       "      <td>0</td>\n",
       "      <td>0</td>\n",
       "      <td>No</td>\n",
       "    </tr>\n",
       "    <tr>\n",
       "      <th>4</th>\n",
       "      <td>8.841186e+12</td>\n",
       "      <td>5642494</td>\n",
       "      <td>F</td>\n",
       "      <td>2016-04-29T16:07:23Z</td>\n",
       "      <td>2016-04-29T00:00:00Z</td>\n",
       "      <td>56</td>\n",
       "      <td>JARDIM DA PENHA</td>\n",
       "      <td>0</td>\n",
       "      <td>1</td>\n",
       "      <td>1</td>\n",
       "      <td>0</td>\n",
       "      <td>0</td>\n",
       "      <td>0</td>\n",
       "      <td>No</td>\n",
       "    </tr>\n",
       "  </tbody>\n",
       "</table>\n",
       "</div>"
      ],
      "text/plain": [
       "      PatientId  AppointmentID Gender          ScheduledDay  \\\n",
       "0  2.987250e+13        5642903      F  2016-04-29T18:38:08Z   \n",
       "1  5.589978e+14        5642503      M  2016-04-29T16:08:27Z   \n",
       "2  4.262962e+12        5642549      F  2016-04-29T16:19:04Z   \n",
       "3  8.679512e+11        5642828      F  2016-04-29T17:29:31Z   \n",
       "4  8.841186e+12        5642494      F  2016-04-29T16:07:23Z   \n",
       "\n",
       "         AppointmentDay  Age      Neighbourhood  Scholarship  Hipertension  \\\n",
       "0  2016-04-29T00:00:00Z   62    JARDIM DA PENHA            0             1   \n",
       "1  2016-04-29T00:00:00Z   56    JARDIM DA PENHA            0             0   \n",
       "2  2016-04-29T00:00:00Z   62      MATA DA PRAIA            0             0   \n",
       "3  2016-04-29T00:00:00Z    8  PONTAL DE CAMBURI            0             0   \n",
       "4  2016-04-29T00:00:00Z   56    JARDIM DA PENHA            0             1   \n",
       "\n",
       "   Diabetes  Alcoholism  Handcap  SMS_received No-show  \n",
       "0         0           0        0             0      No  \n",
       "1         0           0        0             0      No  \n",
       "2         0           0        0             0      No  \n",
       "3         0           0        0             0      No  \n",
       "4         1           0        0             0      No  "
      ]
     },
     "execution_count": 20,
     "metadata": {},
     "output_type": "execute_result"
    }
   ],
   "source": [
    "app_df.head()"
   ]
  },
  {
   "cell_type": "code",
   "execution_count": null,
   "id": "bf8eaa17",
   "metadata": {},
   "outputs": [],
   "source": []
  },
  {
   "cell_type": "code",
   "execution_count": 21,
   "id": "3ab8fc60",
   "metadata": {},
   "outputs": [],
   "source": [
    "#since hypertension word was written wrong ,so we have to replace i with y\n",
    "app_df.rename(columns={'Hipertension':'Hypertension'}, inplace=True)"
   ]
  },
  {
   "cell_type": "code",
   "execution_count": 22,
   "id": "28f3bced",
   "metadata": {},
   "outputs": [
    {
     "data": {
      "text/html": [
       "<div>\n",
       "<style scoped>\n",
       "    .dataframe tbody tr th:only-of-type {\n",
       "        vertical-align: middle;\n",
       "    }\n",
       "\n",
       "    .dataframe tbody tr th {\n",
       "        vertical-align: top;\n",
       "    }\n",
       "\n",
       "    .dataframe thead th {\n",
       "        text-align: right;\n",
       "    }\n",
       "</style>\n",
       "<table border=\"1\" class=\"dataframe\">\n",
       "  <thead>\n",
       "    <tr style=\"text-align: right;\">\n",
       "      <th></th>\n",
       "      <th>PatientId</th>\n",
       "      <th>AppointmentID</th>\n",
       "      <th>Age</th>\n",
       "      <th>Scholarship</th>\n",
       "      <th>Hypertension</th>\n",
       "      <th>Diabetes</th>\n",
       "      <th>Alcoholism</th>\n",
       "      <th>Handcap</th>\n",
       "      <th>SMS_received</th>\n",
       "    </tr>\n",
       "  </thead>\n",
       "  <tbody>\n",
       "    <tr>\n",
       "      <th>count</th>\n",
       "      <td>1.105270e+05</td>\n",
       "      <td>1.105270e+05</td>\n",
       "      <td>110527.000000</td>\n",
       "      <td>110527.000000</td>\n",
       "      <td>110527.000000</td>\n",
       "      <td>110527.000000</td>\n",
       "      <td>110527.000000</td>\n",
       "      <td>110527.000000</td>\n",
       "      <td>110527.000000</td>\n",
       "    </tr>\n",
       "    <tr>\n",
       "      <th>mean</th>\n",
       "      <td>1.474963e+14</td>\n",
       "      <td>5.675305e+06</td>\n",
       "      <td>37.088874</td>\n",
       "      <td>0.098266</td>\n",
       "      <td>0.197246</td>\n",
       "      <td>0.071865</td>\n",
       "      <td>0.030400</td>\n",
       "      <td>0.022248</td>\n",
       "      <td>0.321026</td>\n",
       "    </tr>\n",
       "    <tr>\n",
       "      <th>std</th>\n",
       "      <td>2.560949e+14</td>\n",
       "      <td>7.129575e+04</td>\n",
       "      <td>23.110205</td>\n",
       "      <td>0.297675</td>\n",
       "      <td>0.397921</td>\n",
       "      <td>0.258265</td>\n",
       "      <td>0.171686</td>\n",
       "      <td>0.161543</td>\n",
       "      <td>0.466873</td>\n",
       "    </tr>\n",
       "    <tr>\n",
       "      <th>min</th>\n",
       "      <td>3.921784e+04</td>\n",
       "      <td>5.030230e+06</td>\n",
       "      <td>-1.000000</td>\n",
       "      <td>0.000000</td>\n",
       "      <td>0.000000</td>\n",
       "      <td>0.000000</td>\n",
       "      <td>0.000000</td>\n",
       "      <td>0.000000</td>\n",
       "      <td>0.000000</td>\n",
       "    </tr>\n",
       "    <tr>\n",
       "      <th>25%</th>\n",
       "      <td>4.172614e+12</td>\n",
       "      <td>5.640286e+06</td>\n",
       "      <td>18.000000</td>\n",
       "      <td>0.000000</td>\n",
       "      <td>0.000000</td>\n",
       "      <td>0.000000</td>\n",
       "      <td>0.000000</td>\n",
       "      <td>0.000000</td>\n",
       "      <td>0.000000</td>\n",
       "    </tr>\n",
       "    <tr>\n",
       "      <th>50%</th>\n",
       "      <td>3.173184e+13</td>\n",
       "      <td>5.680573e+06</td>\n",
       "      <td>37.000000</td>\n",
       "      <td>0.000000</td>\n",
       "      <td>0.000000</td>\n",
       "      <td>0.000000</td>\n",
       "      <td>0.000000</td>\n",
       "      <td>0.000000</td>\n",
       "      <td>0.000000</td>\n",
       "    </tr>\n",
       "    <tr>\n",
       "      <th>75%</th>\n",
       "      <td>9.439172e+13</td>\n",
       "      <td>5.725524e+06</td>\n",
       "      <td>55.000000</td>\n",
       "      <td>0.000000</td>\n",
       "      <td>0.000000</td>\n",
       "      <td>0.000000</td>\n",
       "      <td>0.000000</td>\n",
       "      <td>0.000000</td>\n",
       "      <td>1.000000</td>\n",
       "    </tr>\n",
       "    <tr>\n",
       "      <th>max</th>\n",
       "      <td>9.999816e+14</td>\n",
       "      <td>5.790484e+06</td>\n",
       "      <td>115.000000</td>\n",
       "      <td>1.000000</td>\n",
       "      <td>1.000000</td>\n",
       "      <td>1.000000</td>\n",
       "      <td>1.000000</td>\n",
       "      <td>4.000000</td>\n",
       "      <td>1.000000</td>\n",
       "    </tr>\n",
       "  </tbody>\n",
       "</table>\n",
       "</div>"
      ],
      "text/plain": [
       "          PatientId  AppointmentID            Age    Scholarship  \\\n",
       "count  1.105270e+05   1.105270e+05  110527.000000  110527.000000   \n",
       "mean   1.474963e+14   5.675305e+06      37.088874       0.098266   \n",
       "std    2.560949e+14   7.129575e+04      23.110205       0.297675   \n",
       "min    3.921784e+04   5.030230e+06      -1.000000       0.000000   \n",
       "25%    4.172614e+12   5.640286e+06      18.000000       0.000000   \n",
       "50%    3.173184e+13   5.680573e+06      37.000000       0.000000   \n",
       "75%    9.439172e+13   5.725524e+06      55.000000       0.000000   \n",
       "max    9.999816e+14   5.790484e+06     115.000000       1.000000   \n",
       "\n",
       "        Hypertension       Diabetes     Alcoholism        Handcap  \\\n",
       "count  110527.000000  110527.000000  110527.000000  110527.000000   \n",
       "mean        0.197246       0.071865       0.030400       0.022248   \n",
       "std         0.397921       0.258265       0.171686       0.161543   \n",
       "min         0.000000       0.000000       0.000000       0.000000   \n",
       "25%         0.000000       0.000000       0.000000       0.000000   \n",
       "50%         0.000000       0.000000       0.000000       0.000000   \n",
       "75%         0.000000       0.000000       0.000000       0.000000   \n",
       "max         1.000000       1.000000       1.000000       4.000000   \n",
       "\n",
       "        SMS_received  \n",
       "count  110527.000000  \n",
       "mean        0.321026  \n",
       "std         0.466873  \n",
       "min         0.000000  \n",
       "25%         0.000000  \n",
       "50%         0.000000  \n",
       "75%         1.000000  \n",
       "max         1.000000  "
      ]
     },
     "execution_count": 22,
     "metadata": {},
     "output_type": "execute_result"
    }
   ],
   "source": [
    "app_df.describe()"
   ]
  },
  {
   "cell_type": "code",
   "execution_count": 23,
   "id": "6076b158",
   "metadata": {},
   "outputs": [
    {
     "data": {
      "text/plain": [
       "(110527, 14)"
      ]
     },
     "execution_count": 23,
     "metadata": {},
     "output_type": "execute_result"
    }
   ],
   "source": [
    "# to have the number of  sample in rows & number of columns\n",
    "app_df.shape\n",
    "# so we have 110527 sample and 14 columns"
   ]
  },
  {
   "cell_type": "code",
   "execution_count": 24,
   "id": "90b13f51",
   "metadata": {},
   "outputs": [
    {
     "name": "stdout",
     "output_type": "stream",
     "text": [
      "<class 'pandas.core.frame.DataFrame'>\n",
      "RangeIndex: 110527 entries, 0 to 110526\n",
      "Data columns (total 14 columns):\n",
      " #   Column          Non-Null Count   Dtype  \n",
      "---  ------          --------------   -----  \n",
      " 0   PatientId       110527 non-null  float64\n",
      " 1   AppointmentID   110527 non-null  int64  \n",
      " 2   Gender          110527 non-null  object \n",
      " 3   ScheduledDay    110527 non-null  object \n",
      " 4   AppointmentDay  110527 non-null  object \n",
      " 5   Age             110527 non-null  int64  \n",
      " 6   Neighbourhood   110527 non-null  object \n",
      " 7   Scholarship     110527 non-null  int64  \n",
      " 8   Hypertension    110527 non-null  int64  \n",
      " 9   Diabetes        110527 non-null  int64  \n",
      " 10  Alcoholism      110527 non-null  int64  \n",
      " 11  Handcap         110527 non-null  int64  \n",
      " 12  SMS_received    110527 non-null  int64  \n",
      " 13  No-show         110527 non-null  object \n",
      "dtypes: float64(1), int64(8), object(5)\n",
      "memory usage: 11.8+ MB\n"
     ]
    }
   ],
   "source": [
    "# to see if there is any missing values and types of information in each columns \n",
    "app_df.info()\n",
    "# so we have no missing values and "
   ]
  },
  {
   "cell_type": "code",
   "execution_count": 25,
   "id": "619e5d23",
   "metadata": {},
   "outputs": [
    {
     "data": {
      "text/plain": [
       "0"
      ]
     },
     "execution_count": 25,
     "metadata": {},
     "output_type": "execute_result"
    }
   ],
   "source": [
    "# number of dublecated values  so from running code thier are no dublicated values to drop\n",
    "sum(app_df.duplicated())"
   ]
  },
  {
   "cell_type": "code",
   "execution_count": 26,
   "id": "70d65a5e",
   "metadata": {},
   "outputs": [
    {
     "data": {
      "text/plain": [
       "PatientId         0\n",
       "AppointmentID     0\n",
       "Gender            0\n",
       "ScheduledDay      0\n",
       "AppointmentDay    0\n",
       "Age               0\n",
       "Neighbourhood     0\n",
       "Scholarship       0\n",
       "Hypertension      0\n",
       "Diabetes          0\n",
       "Alcoholism        0\n",
       "Handcap           0\n",
       "SMS_received      0\n",
       "No-show           0\n",
       "dtype: int64"
      ]
     },
     "execution_count": 26,
     "metadata": {},
     "output_type": "execute_result"
    }
   ],
   "source": [
    "####Data Cleaning\n",
    "## to see if there is any null rows and the total number \n",
    "app_df.isnull().sum()"
   ]
  },
  {
   "cell_type": "markdown",
   "id": "deb488b0",
   "metadata": {},
   "source": [
    "# Data Cleaning¶\n"
   ]
  },
  {
   "cell_type": "code",
   "execution_count": 27,
   "id": "647750c6",
   "metadata": {},
   "outputs": [],
   "source": [
    "### Now it is time for cleaning unuseful columns to make it easier in analysis \n",
    "app_df.drop(['PatientId','AppointmentID','AppointmentDay','Neighbourhood'] , axis= 1, inplace = True)"
   ]
  },
  {
   "cell_type": "code",
   "execution_count": 28,
   "id": "a65dc125",
   "metadata": {},
   "outputs": [
    {
     "data": {
      "text/html": [
       "<div>\n",
       "<style scoped>\n",
       "    .dataframe tbody tr th:only-of-type {\n",
       "        vertical-align: middle;\n",
       "    }\n",
       "\n",
       "    .dataframe tbody tr th {\n",
       "        vertical-align: top;\n",
       "    }\n",
       "\n",
       "    .dataframe thead th {\n",
       "        text-align: right;\n",
       "    }\n",
       "</style>\n",
       "<table border=\"1\" class=\"dataframe\">\n",
       "  <thead>\n",
       "    <tr style=\"text-align: right;\">\n",
       "      <th></th>\n",
       "      <th>Gender</th>\n",
       "      <th>ScheduledDay</th>\n",
       "      <th>Age</th>\n",
       "      <th>Scholarship</th>\n",
       "      <th>Hypertension</th>\n",
       "      <th>Diabetes</th>\n",
       "      <th>Alcoholism</th>\n",
       "      <th>Handcap</th>\n",
       "      <th>SMS_received</th>\n",
       "      <th>No-show</th>\n",
       "    </tr>\n",
       "  </thead>\n",
       "  <tbody>\n",
       "    <tr>\n",
       "      <th>0</th>\n",
       "      <td>F</td>\n",
       "      <td>2016-04-29T18:38:08Z</td>\n",
       "      <td>62</td>\n",
       "      <td>0</td>\n",
       "      <td>1</td>\n",
       "      <td>0</td>\n",
       "      <td>0</td>\n",
       "      <td>0</td>\n",
       "      <td>0</td>\n",
       "      <td>No</td>\n",
       "    </tr>\n",
       "    <tr>\n",
       "      <th>1</th>\n",
       "      <td>M</td>\n",
       "      <td>2016-04-29T16:08:27Z</td>\n",
       "      <td>56</td>\n",
       "      <td>0</td>\n",
       "      <td>0</td>\n",
       "      <td>0</td>\n",
       "      <td>0</td>\n",
       "      <td>0</td>\n",
       "      <td>0</td>\n",
       "      <td>No</td>\n",
       "    </tr>\n",
       "    <tr>\n",
       "      <th>2</th>\n",
       "      <td>F</td>\n",
       "      <td>2016-04-29T16:19:04Z</td>\n",
       "      <td>62</td>\n",
       "      <td>0</td>\n",
       "      <td>0</td>\n",
       "      <td>0</td>\n",
       "      <td>0</td>\n",
       "      <td>0</td>\n",
       "      <td>0</td>\n",
       "      <td>No</td>\n",
       "    </tr>\n",
       "  </tbody>\n",
       "</table>\n",
       "</div>"
      ],
      "text/plain": [
       "  Gender          ScheduledDay  Age  Scholarship  Hypertension  Diabetes  \\\n",
       "0      F  2016-04-29T18:38:08Z   62            0             1         0   \n",
       "1      M  2016-04-29T16:08:27Z   56            0             0         0   \n",
       "2      F  2016-04-29T16:19:04Z   62            0             0         0   \n",
       "\n",
       "   Alcoholism  Handcap  SMS_received No-show  \n",
       "0           0        0             0      No  \n",
       "1           0        0             0      No  \n",
       "2           0        0             0      No  "
      ]
     },
     "execution_count": 28,
     "metadata": {},
     "output_type": "execute_result"
    }
   ],
   "source": [
    "app_df.head(3)"
   ]
  },
  {
   "cell_type": "code",
   "execution_count": 29,
   "id": "e4eba1e8",
   "metadata": {},
   "outputs": [],
   "source": [
    "#### I have to change the name as \"NO\" not readable as column but as a built in  data\n",
    "\n",
    "app_df.rename(columns={'No-show':'notshowed'}, inplace=True)\n"
   ]
  },
  {
   "cell_type": "code",
   "execution_count": 30,
   "id": "79ea76f1",
   "metadata": {},
   "outputs": [],
   "source": [
    "### Note that scaduled day cant work so it is a must to convert its type from string to datetime ,so i can extract hour from it\n",
    "app_df['ScheduledDay'] = pd.to_datetime(app_df.ScheduledDay\t)"
   ]
  },
  {
   "cell_type": "code",
   "execution_count": 31,
   "id": "8769cbe6",
   "metadata": {},
   "outputs": [
    {
     "name": "stdout",
     "output_type": "stream",
     "text": [
      "<class 'pandas.core.frame.DataFrame'>\n",
      "RangeIndex: 110527 entries, 0 to 110526\n",
      "Data columns (total 10 columns):\n",
      " #   Column        Non-Null Count   Dtype              \n",
      "---  ------        --------------   -----              \n",
      " 0   Gender        110527 non-null  object             \n",
      " 1   ScheduledDay  110527 non-null  datetime64[ns, UTC]\n",
      " 2   Age           110527 non-null  int64              \n",
      " 3   Scholarship   110527 non-null  int64              \n",
      " 4   Hypertension  110527 non-null  int64              \n",
      " 5   Diabetes      110527 non-null  int64              \n",
      " 6   Alcoholism    110527 non-null  int64              \n",
      " 7   Handcap       110527 non-null  int64              \n",
      " 8   SMS_received  110527 non-null  int64              \n",
      " 9   notshowed     110527 non-null  object             \n",
      "dtypes: datetime64[ns, UTC](1), int64(7), object(2)\n",
      "memory usage: 8.4+ MB\n"
     ]
    }
   ],
   "source": [
    "app_df.info()\n"
   ]
  },
  {
   "cell_type": "code",
   "execution_count": 32,
   "id": "9d5fdd72",
   "metadata": {},
   "outputs": [],
   "source": [
    "app_df.drop_duplicates(keep=False,inplace=True)"
   ]
  },
  {
   "cell_type": "code",
   "execution_count": 33,
   "id": "1645db5c",
   "metadata": {},
   "outputs": [
    {
     "data": {
      "text/html": [
       "<div>\n",
       "<style scoped>\n",
       "    .dataframe tbody tr th:only-of-type {\n",
       "        vertical-align: middle;\n",
       "    }\n",
       "\n",
       "    .dataframe tbody tr th {\n",
       "        vertical-align: top;\n",
       "    }\n",
       "\n",
       "    .dataframe thead th {\n",
       "        text-align: right;\n",
       "    }\n",
       "</style>\n",
       "<table border=\"1\" class=\"dataframe\">\n",
       "  <thead>\n",
       "    <tr style=\"text-align: right;\">\n",
       "      <th></th>\n",
       "      <th>Gender</th>\n",
       "      <th>ScheduledDay</th>\n",
       "      <th>Age</th>\n",
       "      <th>Scholarship</th>\n",
       "      <th>Hypertension</th>\n",
       "      <th>Diabetes</th>\n",
       "      <th>Alcoholism</th>\n",
       "      <th>Handcap</th>\n",
       "      <th>SMS_received</th>\n",
       "      <th>notshowed</th>\n",
       "    </tr>\n",
       "  </thead>\n",
       "  <tbody>\n",
       "    <tr>\n",
       "      <th>0</th>\n",
       "      <td>F</td>\n",
       "      <td>2016-04-29 18:38:08+00:00</td>\n",
       "      <td>62</td>\n",
       "      <td>0</td>\n",
       "      <td>1</td>\n",
       "      <td>0</td>\n",
       "      <td>0</td>\n",
       "      <td>0</td>\n",
       "      <td>0</td>\n",
       "      <td>No</td>\n",
       "    </tr>\n",
       "    <tr>\n",
       "      <th>1</th>\n",
       "      <td>M</td>\n",
       "      <td>2016-04-29 16:08:27+00:00</td>\n",
       "      <td>56</td>\n",
       "      <td>0</td>\n",
       "      <td>0</td>\n",
       "      <td>0</td>\n",
       "      <td>0</td>\n",
       "      <td>0</td>\n",
       "      <td>0</td>\n",
       "      <td>No</td>\n",
       "    </tr>\n",
       "    <tr>\n",
       "      <th>2</th>\n",
       "      <td>F</td>\n",
       "      <td>2016-04-29 16:19:04+00:00</td>\n",
       "      <td>62</td>\n",
       "      <td>0</td>\n",
       "      <td>0</td>\n",
       "      <td>0</td>\n",
       "      <td>0</td>\n",
       "      <td>0</td>\n",
       "      <td>0</td>\n",
       "      <td>No</td>\n",
       "    </tr>\n",
       "    <tr>\n",
       "      <th>3</th>\n",
       "      <td>F</td>\n",
       "      <td>2016-04-29 17:29:31+00:00</td>\n",
       "      <td>8</td>\n",
       "      <td>0</td>\n",
       "      <td>0</td>\n",
       "      <td>0</td>\n",
       "      <td>0</td>\n",
       "      <td>0</td>\n",
       "      <td>0</td>\n",
       "      <td>No</td>\n",
       "    </tr>\n",
       "    <tr>\n",
       "      <th>4</th>\n",
       "      <td>F</td>\n",
       "      <td>2016-04-29 16:07:23+00:00</td>\n",
       "      <td>56</td>\n",
       "      <td>0</td>\n",
       "      <td>1</td>\n",
       "      <td>1</td>\n",
       "      <td>0</td>\n",
       "      <td>0</td>\n",
       "      <td>0</td>\n",
       "      <td>No</td>\n",
       "    </tr>\n",
       "  </tbody>\n",
       "</table>\n",
       "</div>"
      ],
      "text/plain": [
       "  Gender              ScheduledDay  Age  Scholarship  Hypertension  Diabetes  \\\n",
       "0      F 2016-04-29 18:38:08+00:00   62            0             1         0   \n",
       "1      M 2016-04-29 16:08:27+00:00   56            0             0         0   \n",
       "2      F 2016-04-29 16:19:04+00:00   62            0             0         0   \n",
       "3      F 2016-04-29 17:29:31+00:00    8            0             0         0   \n",
       "4      F 2016-04-29 16:07:23+00:00   56            0             1         1   \n",
       "\n",
       "   Alcoholism  Handcap  SMS_received notshowed  \n",
       "0           0        0             0        No  \n",
       "1           0        0             0        No  \n",
       "2           0        0             0        No  \n",
       "3           0        0             0        No  \n",
       "4           0        0             0        No  "
      ]
     },
     "execution_count": 33,
     "metadata": {},
     "output_type": "execute_result"
    }
   ],
   "source": [
    "app_df.head()"
   ]
  },
  {
   "cell_type": "code",
   "execution_count": 34,
   "id": "51f4eebd",
   "metadata": {},
   "outputs": [
    {
     "data": {
      "text/plain": [
       "notshowed\n",
       "No     37.828036\n",
       "Yes    34.318555\n",
       "Name: Age, dtype: float64"
      ]
     },
     "execution_count": 34,
     "metadata": {},
     "output_type": "execute_result"
    }
   ],
   "source": [
    "### here I want to know the mean age that shoed up on time \n",
    "#### that means age showed up most at age 37 years and mean age that not show around 34 years\n",
    "#### that too close \n",
    "app_df.groupby('notshowed').Age.mean()"
   ]
  },
  {
   "cell_type": "code",
   "execution_count": 35,
   "id": "99d96085",
   "metadata": {},
   "outputs": [
    {
     "data": {
      "text/plain": [
       "No     87315\n",
       "Yes    21811\n",
       "Name: notshowed, dtype: int64"
      ]
     },
     "execution_count": 35,
     "metadata": {},
     "output_type": "execute_result"
    }
   ],
   "source": [
    "app_df.notshowed.value_counts()"
   ]
  },
  {
   "cell_type": "code",
   "execution_count": 36,
   "id": "827b7a78",
   "metadata": {},
   "outputs": [
    {
     "data": {
      "text/plain": [
       "10.770018144163627"
      ]
     },
     "execution_count": 36,
     "metadata": {},
     "output_type": "execute_result"
    }
   ],
   "source": [
    "#### now we want to know the mean in which is\n",
    "\n",
    "app_df.ScheduledDay.dt.hour.mean()"
   ]
  },
  {
   "cell_type": "code",
   "execution_count": 37,
   "id": "b7007d9c",
   "metadata": {},
   "outputs": [],
   "source": [
    "app_df['scheduled_hour'] = app_df.ScheduledDay.dt.hour"
   ]
  },
  {
   "cell_type": "code",
   "execution_count": 38,
   "id": "0c7686de",
   "metadata": {},
   "outputs": [
    {
     "data": {
      "text/html": [
       "<div>\n",
       "<style scoped>\n",
       "    .dataframe tbody tr th:only-of-type {\n",
       "        vertical-align: middle;\n",
       "    }\n",
       "\n",
       "    .dataframe tbody tr th {\n",
       "        vertical-align: top;\n",
       "    }\n",
       "\n",
       "    .dataframe thead th {\n",
       "        text-align: right;\n",
       "    }\n",
       "</style>\n",
       "<table border=\"1\" class=\"dataframe\">\n",
       "  <thead>\n",
       "    <tr style=\"text-align: right;\">\n",
       "      <th></th>\n",
       "      <th>Gender</th>\n",
       "      <th>ScheduledDay</th>\n",
       "      <th>Age</th>\n",
       "      <th>Scholarship</th>\n",
       "      <th>Hypertension</th>\n",
       "      <th>Diabetes</th>\n",
       "      <th>Alcoholism</th>\n",
       "      <th>Handcap</th>\n",
       "      <th>SMS_received</th>\n",
       "      <th>notshowed</th>\n",
       "      <th>scheduled_hour</th>\n",
       "    </tr>\n",
       "  </thead>\n",
       "  <tbody>\n",
       "    <tr>\n",
       "      <th>0</th>\n",
       "      <td>F</td>\n",
       "      <td>2016-04-29 18:38:08+00:00</td>\n",
       "      <td>62</td>\n",
       "      <td>0</td>\n",
       "      <td>1</td>\n",
       "      <td>0</td>\n",
       "      <td>0</td>\n",
       "      <td>0</td>\n",
       "      <td>0</td>\n",
       "      <td>No</td>\n",
       "      <td>18</td>\n",
       "    </tr>\n",
       "    <tr>\n",
       "      <th>1</th>\n",
       "      <td>M</td>\n",
       "      <td>2016-04-29 16:08:27+00:00</td>\n",
       "      <td>56</td>\n",
       "      <td>0</td>\n",
       "      <td>0</td>\n",
       "      <td>0</td>\n",
       "      <td>0</td>\n",
       "      <td>0</td>\n",
       "      <td>0</td>\n",
       "      <td>No</td>\n",
       "      <td>16</td>\n",
       "    </tr>\n",
       "  </tbody>\n",
       "</table>\n",
       "</div>"
      ],
      "text/plain": [
       "  Gender              ScheduledDay  Age  Scholarship  Hypertension  Diabetes  \\\n",
       "0      F 2016-04-29 18:38:08+00:00   62            0             1         0   \n",
       "1      M 2016-04-29 16:08:27+00:00   56            0             0         0   \n",
       "\n",
       "   Alcoholism  Handcap  SMS_received notshowed  scheduled_hour  \n",
       "0           0        0             0        No              18  \n",
       "1           0        0             0        No              16  "
      ]
     },
     "execution_count": 38,
     "metadata": {},
     "output_type": "execute_result"
    }
   ],
   "source": [
    "app_df.head(2)"
   ]
  },
  {
   "cell_type": "code",
   "execution_count": 39,
   "id": "4a0c25ff",
   "metadata": {},
   "outputs": [
    {
     "data": {
      "text/plain": [
       "array([[<AxesSubplot:title={'center':'ScheduledDay'}>,\n",
       "        <AxesSubplot:title={'center':'Age'}>,\n",
       "        <AxesSubplot:title={'center':'Scholarship'}>],\n",
       "       [<AxesSubplot:title={'center':'Hypertension'}>,\n",
       "        <AxesSubplot:title={'center':'Diabetes'}>,\n",
       "        <AxesSubplot:title={'center':'Alcoholism'}>],\n",
       "       [<AxesSubplot:title={'center':'Handcap'}>,\n",
       "        <AxesSubplot:title={'center':'SMS_received'}>,\n",
       "        <AxesSubplot:title={'center':'scheduled_hour'}>]], dtype=object)"
      ]
     },
     "execution_count": 39,
     "metadata": {},
     "output_type": "execute_result"
    },
    {
     "data": {
      "image/png": "[encoded data removed]",
      "text/plain": [
       "<Figure size 1080x576 with 9 Axes>"
      ]
     },
     "metadata": {
      "needs_background": "light"
     },
     "output_type": "display_data"
    }
   ],
   "source": [
    "##### in this action we will have a general look in all factors \n",
    "## from those plot we can see that all factors have only  two variables  except age and  have alot of values \n",
    "app_df.hist(figsize=(15 ,8) , color = ('green'))"
   ]
  },
  {
   "cell_type": "markdown",
   "id": "8ba41cf5",
   "metadata": {},
   "source": [
    "# Exploratory Data Analysis\n",
    "\n"
   ]
  },
  {
   "cell_type": "markdown",
   "id": "275e6466",
   "metadata": {},
   "source": [
    "# How many males and females exist in my data?\n",
    "# What is the percentage of female and male show up ?"
   ]
  },
  {
   "cell_type": "code",
   "execution_count": 50,
   "id": "f26c8296",
   "metadata": {},
   "outputs": [
    {
     "data": {
      "text/plain": [
       "F    70963\n",
       "M    38163\n",
       "Name: Gender, dtype: int64"
      ]
     },
     "execution_count": 50,
     "metadata": {},
     "output_type": "execute_result"
    }
   ],
   "source": [
    "### here i will know the nuber of femals and males in my sample \n",
    "#### so i have more females in my sample \n",
    "app_df.Gender.value_counts()"
   ]
  },
  {
   "cell_type": "code",
   "execution_count": 51,
   "id": "8c1de0fe",
   "metadata": {},
   "outputs": [],
   "source": [
    "#### here i want to know how mant female and how many male showed up\n",
    "gender= app_df[app_df.notshowed == \"No\" ]"
   ]
  },
  {
   "cell_type": "code",
   "execution_count": 52,
   "id": "616fafc2",
   "metadata": {},
   "outputs": [
    {
     "data": {
      "text/plain": [
       "F    56652\n",
       "M    30663\n",
       "Name: Gender, dtype: int64"
      ]
     },
     "execution_count": 52,
     "metadata": {},
     "output_type": "execute_result"
    }
   ],
   "source": [
    "gender.Gender.value_counts()\n",
    "#### here we see that about more females showed up but that is not true as number of females in sample more than number of males so we have to get the percentage \n",
    "\n"
   ]
  },
  {
   "cell_type": "code",
   "execution_count": 54,
   "id": "41f0fbe9",
   "metadata": {},
   "outputs": [],
   "source": [
    "### calculatin percentage will give true evaluation of affecting of gender on showing up\n",
    "percentage = gender.Gender.value_counts()/app_df.Gender.value_counts() *100"
   ]
  },
  {
   "cell_type": "code",
   "execution_count": 55,
   "id": "059c137f",
   "metadata": {},
   "outputs": [
    {
     "data": {
      "text/plain": [
       "<AxesSubplot:title={'center':'how gender can affect showing up in appointments'}, xlabel='percentage of female and males who showed up', ylabel='percentage%'>"
      ]
     },
     "execution_count": 55,
     "metadata": {},
     "output_type": "execute_result"
    },
    {
     "data": {
      "image/png": "[encoded data removed]",
      "text/plain": [
       "<Figure size 576x576 with 1 Axes>"
      ]
     },
     "metadata": {
      "needs_background": "light"
     },
     "output_type": "display_data"
    }
   ],
   "source": [
    "#### From the bar there is slight diffrance between males and females who showed up\n",
    "percentage.plot(kind ='bar' , figsize = (8, 8) , xlabel = ('percentage of female and males who showed up'),ylabel = ('percentage%'), title = \"how gender can affect showing up in appointments\", color = 'brown', alpha =0.9)"
   ]
  },
  {
   "cell_type": "markdown",
   "id": "548db399",
   "metadata": {},
   "source": [
    "# Which hour of the day patient schadueld and show up ?\n",
    "# does it affect showing up or not?"
   ]
  },
  {
   "cell_type": "code",
   "execution_count": 56,
   "id": "486cdd40",
   "metadata": {},
   "outputs": [],
   "source": [
    "#### scheduled hour have to be filtered in showing up samples only to give an accurate effect on our data analysis\n",
    "##### so first i will filter notshowed column to all those who showed up in thier appointment\n",
    "hour = app_df[app_df.notshowed == \"No\"]\n"
   ]
  },
  {
   "cell_type": "code",
   "execution_count": 57,
   "id": "5274a961",
   "metadata": {},
   "outputs": [
    {
     "data": {
      "text/html": [
       "<div>\n",
       "<style scoped>\n",
       "    .dataframe tbody tr th:only-of-type {\n",
       "        vertical-align: middle;\n",
       "    }\n",
       "\n",
       "    .dataframe tbody tr th {\n",
       "        vertical-align: top;\n",
       "    }\n",
       "\n",
       "    .dataframe thead th {\n",
       "        text-align: right;\n",
       "    }\n",
       "</style>\n",
       "<table border=\"1\" class=\"dataframe\">\n",
       "  <thead>\n",
       "    <tr style=\"text-align: right;\">\n",
       "      <th></th>\n",
       "      <th>Gender</th>\n",
       "      <th>ScheduledDay</th>\n",
       "      <th>Age</th>\n",
       "      <th>Scholarship</th>\n",
       "      <th>Hypertension</th>\n",
       "      <th>Diabetes</th>\n",
       "      <th>Alcoholism</th>\n",
       "      <th>Handcap</th>\n",
       "      <th>SMS_received</th>\n",
       "      <th>notshowed</th>\n",
       "      <th>scheduled_hour</th>\n",
       "    </tr>\n",
       "  </thead>\n",
       "  <tbody>\n",
       "    <tr>\n",
       "      <th>0</th>\n",
       "      <td>F</td>\n",
       "      <td>2016-04-29 18:38:08+00:00</td>\n",
       "      <td>62</td>\n",
       "      <td>0</td>\n",
       "      <td>1</td>\n",
       "      <td>0</td>\n",
       "      <td>0</td>\n",
       "      <td>0</td>\n",
       "      <td>0</td>\n",
       "      <td>No</td>\n",
       "      <td>18</td>\n",
       "    </tr>\n",
       "    <tr>\n",
       "      <th>1</th>\n",
       "      <td>M</td>\n",
       "      <td>2016-04-29 16:08:27+00:00</td>\n",
       "      <td>56</td>\n",
       "      <td>0</td>\n",
       "      <td>0</td>\n",
       "      <td>0</td>\n",
       "      <td>0</td>\n",
       "      <td>0</td>\n",
       "      <td>0</td>\n",
       "      <td>No</td>\n",
       "      <td>16</td>\n",
       "    </tr>\n",
       "  </tbody>\n",
       "</table>\n",
       "</div>"
      ],
      "text/plain": [
       "  Gender              ScheduledDay  Age  Scholarship  Hypertension  Diabetes  \\\n",
       "0      F 2016-04-29 18:38:08+00:00   62            0             1         0   \n",
       "1      M 2016-04-29 16:08:27+00:00   56            0             0         0   \n",
       "\n",
       "   Alcoholism  Handcap  SMS_received notshowed  scheduled_hour  \n",
       "0           0        0             0        No              18  \n",
       "1           0        0             0        No              16  "
      ]
     },
     "execution_count": 57,
     "metadata": {},
     "output_type": "execute_result"
    }
   ],
   "source": [
    "app_df.head(2)"
   ]
  },
  {
   "cell_type": "code",
   "execution_count": 58,
   "id": "189b2a98",
   "metadata": {},
   "outputs": [
    {
     "data": {
      "text/plain": [
       "notshowed  scheduled_hour\n",
       "No         7                 16211\n",
       "           8                 12397\n",
       "           9                 10197\n",
       "           10                 8505\n",
       "           13                 7063\n",
       "           14                 6989\n",
       "           11                 6444\n",
       "           15                 6126\n",
       "           12                 4284\n",
       "           16                 4168\n",
       "           17                 2168\n",
       "           6                  1271\n",
       "           18                 1050\n",
       "           19                  372\n",
       "           20                   68\n",
       "           21                    2\n",
       "Name: scheduled_hour, dtype: int64"
      ]
     },
     "execution_count": 58,
     "metadata": {},
     "output_type": "execute_result"
    }
   ],
   "source": [
    "### know it is time to know if schadueled hour really affect showing up or no \n",
    "\n",
    "hour.groupby('notshowed').scheduled_hour.value_counts()\n",
    "## we can see that most of people showed up in period from 7 to 10 and their is big differance between this period of time and other hours"
   ]
  },
  {
   "cell_type": "code",
   "execution_count": 513,
   "id": "3b43b81b",
   "metadata": {},
   "outputs": [
    {
     "data": {
      "text/plain": [
       "<AxesSubplot:title={'center':'Scheduled hour effect on showing up in appointment'}, xlabel='notshowed,scheduled_hour'>"
      ]
     },
     "execution_count": 513,
     "metadata": {},
     "output_type": "execute_result"
    },
    {
     "data": {
      "image/png": "[encoded data removed]",
      "text/plain": [
       "<Figure size 432x288 with 1 Axes>"
      ]
     },
     "metadata": {
      "needs_background": "light"
     },
     "output_type": "display_data"
    }
   ],
   "source": [
    "\n",
    "hour.groupby('notshowed').scheduled_hour.value_counts().plot( x = 'time in hour' , y = 'number of patient showed up per hour', title = 'Scheduled hour effect on showing up in appointment' , color= 'red')"
   ]
  },
  {
   "cell_type": "markdown",
   "id": "b6f5f9c7",
   "metadata": {},
   "source": [
    "# What age seems to show up most ?\n",
    "# Does it affect showing up or no ?"
   ]
  },
  {
   "cell_type": "code",
   "execution_count": 60,
   "id": "b95d3c01",
   "metadata": {},
   "outputs": [
    {
     "data": {
      "text/plain": [
       "37.1265967780364"
      ]
     },
     "execution_count": 60,
     "metadata": {},
     "output_type": "execute_result"
    }
   ],
   "source": [
    "app_df.Age.mean()"
   ]
  },
  {
   "cell_type": "code",
   "execution_count": 70,
   "id": "c0ccbdc7",
   "metadata": {},
   "outputs": [
    {
     "data": {
      "text/plain": [
       "Text(0.5, 1.0, 'the most age showed up')"
      ]
     },
     "execution_count": 70,
     "metadata": {},
     "output_type": "execute_result"
    },
    {
     "data": {
      "image/png": "[encoded data removed]",
      "text/plain": [
       "<Figure size 432x288 with 1 Axes>"
      ]
     },
     "metadata": {
      "needs_background": "light"
     },
     "output_type": "display_data"
    }
   ],
   "source": [
    "hour.Age.value_counts().hist() ### we used hour instead app_df as it contain all patient who showed up\n",
    "plt.gca().set_title('the most age showed up')"
   ]
  },
  {
   "cell_type": "markdown",
   "id": "f4993f26",
   "metadata": {},
   "source": [
    "# What is the effect of Scholarship, Hypertension ,Diabetes ,Alcoholism ,Handcap and  SMS_received  in showing up ?"
   ]
  },
  {
   "cell_type": "code",
   "execution_count": 76,
   "id": "14191180",
   "metadata": {},
   "outputs": [],
   "source": [
    "#### filter showing up in hypertension so i can know it affect showing up or not\n",
    "hypertension = app_df[app_df.Hypertension == 1]"
   ]
  },
  {
   "cell_type": "code",
   "execution_count": 77,
   "id": "ca71b61a",
   "metadata": {},
   "outputs": [
    {
     "data": {
      "text/plain": [
       "No     17874\n",
       "Yes     3685\n",
       "Name: notshowed, dtype: int64"
      ]
     },
     "execution_count": 77,
     "metadata": {},
     "output_type": "execute_result"
    }
   ],
   "source": [
    "hypertension.notshowed.value_counts()"
   ]
  },
  {
   "cell_type": "code",
   "execution_count": 78,
   "id": "6172cb6a",
   "metadata": {},
   "outputs": [],
   "source": [
    "#### filter showing up in handcap so i can know it affect showing up or not\n",
    "handcap = app_df[app_df.Handcap == 1]"
   ]
  },
  {
   "cell_type": "code",
   "execution_count": 79,
   "id": "9d0f54fb",
   "metadata": {},
   "outputs": [
    {
     "data": {
      "text/plain": [
       "No     1655\n",
       "Yes     350\n",
       "Name: notshowed, dtype: int64"
      ]
     },
     "execution_count": 79,
     "metadata": {},
     "output_type": "execute_result"
    }
   ],
   "source": [
    "handcap.notshowed.value_counts()"
   ]
  },
  {
   "cell_type": "code",
   "execution_count": 80,
   "id": "d622638f",
   "metadata": {},
   "outputs": [],
   "source": [
    "#### filter showing up in scholarship so i can know it affect showing up or not\n",
    "scholarship = app_df[app_df.Scholarship == 1]"
   ]
  },
  {
   "cell_type": "code",
   "execution_count": 81,
   "id": "9520fc12",
   "metadata": {},
   "outputs": [
    {
     "data": {
      "text/plain": [
       "No     8208\n",
       "Yes    2531\n",
       "Name: notshowed, dtype: int64"
      ]
     },
     "execution_count": 81,
     "metadata": {},
     "output_type": "execute_result"
    }
   ],
   "source": [
    "scholarship.notshowed.value_counts()"
   ]
  },
  {
   "cell_type": "code",
   "execution_count": 82,
   "id": "25bd4d08",
   "metadata": {},
   "outputs": [],
   "source": [
    "#### filter showing up in diabetes so i can know it affect showing up or not\n",
    "diabetes = app_df[app_df.Diabetes == 1 ]"
   ]
  },
  {
   "cell_type": "code",
   "execution_count": 83,
   "id": "b4ffb70d",
   "metadata": {},
   "outputs": [
    {
     "data": {
      "text/plain": [
       "No     6430\n",
       "Yes    1415\n",
       "Name: notshowed, dtype: int64"
      ]
     },
     "execution_count": 83,
     "metadata": {},
     "output_type": "execute_result"
    }
   ],
   "source": [
    "\n",
    "diabetes.notshowed.value_counts()"
   ]
  },
  {
   "cell_type": "code",
   "execution_count": 84,
   "id": "0a68dd36",
   "metadata": {},
   "outputs": [],
   "source": [
    "#### filter showing up in sms so i can know it affect showing up or not\n",
    "sms = app_df[app_df.SMS_received == 1 ]"
   ]
  },
  {
   "cell_type": "code",
   "execution_count": 85,
   "id": "b95d318c",
   "metadata": {},
   "outputs": [
    {
     "data": {
      "text/plain": [
       "No     25696\n",
       "Yes     9780\n",
       "Name: notshowed, dtype: int64"
      ]
     },
     "execution_count": 85,
     "metadata": {},
     "output_type": "execute_result"
    }
   ],
   "source": [
    "sms.notshowed.value_counts()\n",
    "### it showed that this factor is the most afficting factor in showing up as about 80% who recieved sms is showing up "
   ]
  },
  {
   "cell_type": "code",
   "execution_count": 86,
   "id": "7f4449e8",
   "metadata": {},
   "outputs": [],
   "source": [
    "#### filter showing up in alcoholism so i can know it affect showing up or not\n",
    "alcohol = app_df[app_df.Alcoholism == 1]"
   ]
  },
  {
   "cell_type": "code",
   "execution_count": 87,
   "id": "ead2011a",
   "metadata": {},
   "outputs": [
    {
     "data": {
      "text/plain": [
       "No     2670\n",
       "Yes     660\n",
       "Name: notshowed, dtype: int64"
      ]
     },
     "execution_count": 87,
     "metadata": {},
     "output_type": "execute_result"
    }
   ],
   "source": [
    "alcohol.notshowed.value_counts()"
   ]
  },
  {
   "cell_type": "code",
   "execution_count": 88,
   "id": "2080fc6b",
   "metadata": {},
   "outputs": [],
   "source": [
    "###### conclusion of analysis "
   ]
  },
  {
   "cell_type": "code",
   "execution_count": 89,
   "id": "585bd9bc",
   "metadata": {},
   "outputs": [
    {
     "data": {
      "image/png": "[encoded data removed]",
      "text/plain": [
       "<Figure size 432x288 with 1 Axes>"
      ]
     },
     "metadata": {
      "needs_background": "light"
     },
     "output_type": "display_data"
    }
   ],
   "source": [
    "#### Do illness type , handcap , scholarship and sms receive affect showing up ? \n",
    "\n",
    "# X-axis values\n",
    "NOT_showed = [\"No\",\"Yes\"]\n",
    "  \n",
    "# Y1-axis values\n",
    "hypertension  = [17874 ,  3685]\n",
    "  \n",
    "# Y2-axis values\n",
    "handcap = [1655 , 350 ]\n",
    "\n",
    "#Y3_axis values\n",
    "scholarship = [8208 ,2531]\n",
    "\n",
    "#Y4 axis values\n",
    "alcohol = [2670 , 660]\n",
    "\n",
    "#Y5 axis values\n",
    "sms = [25696 , 9780]\n",
    "#Y6 axis values \n",
    "diabetes = [6430 , 1415]\n",
    "## shape \n",
    "\n",
    "\n",
    "# Function to plot  \n",
    "plt.scatter( NOT_showed,hypertension,  label ='hypertension' )\n",
    "plt.scatter( NOT_showed ,alcohol , label ='alcoholism')\n",
    "plt.scatter (NOT_showed ,handcap , label ='handcap' )\n",
    "plt.scatter( NOT_showed ,scholarship , label ='scholarship')  \n",
    "plt.scatter( NOT_showed, sms ,label ='SMS' )\n",
    "plt.scatter( NOT_showed, diabetes ,label ='diabetes' )\n",
    "# Function add a legend  \n",
    "plt.legend( loc = \"upper center\" ).set_title(\"Yes for Notshowing & NO for showing\")   \n",
    "  \n",
    "# function to show the plot\n",
    "plt.show()\n",
    "#### we notice that the most factor affect showing up here is sms receivation \n",
    "\n"
   ]
  },
  {
   "cell_type": "code",
   "execution_count": 90,
   "id": "f2fd9ea9",
   "metadata": {},
   "outputs": [],
   "source": [
    "##### after analysis we found out that most factor affect showing up is SMS recieve \n",
    "####,then Scheduled time as thier is period of the day patient prefer to show up like period from 7to 10\n",
    "###then Age as people in the middle  finally gender.And hypertention comes after them but it is not a general factor it is mor special"
   ]
  },
  {
   "cell_type": "markdown",
   "id": "0b224090",
   "metadata": {},
   "source": [
    "# conclusion"
   ]
  },
  {
   "cell_type": "markdown",
   "id": "3d57edc9",
   "metadata": {},
   "source": [
    "# from analysis it showed up that the most factor affecting showed up is SMS receivation as 25696 of 35476 who received sms have been showed up in appointment \n",
    "## we can make a list in descending from the most effective to the least\n",
    "###  1- SMS\n",
    "###  2- schaduled hour\n",
    "###  3- Age \n",
    "###  4- Gender\n"
   ]
  },
  {
   "cell_type": "markdown",
   "id": "f5fe20b6",
   "metadata": {},
   "source": [
    "# summary\n",
    "## I think may there is factors need to be add for example :\n",
    "                            ### distance between hospital and patient will be useful .\n",
    "                            ### names of doctors in each clinc that would refer to the most popular doctor affecting showing up. \n",
    "        "
   ]
  },
  {
   "cell_type": "code",
   "execution_count": 93,
   "id": "adef9750",
   "metadata": {},
   "outputs": [
    {
     "data": {
      "text/plain": [
       "4294967295"
      ]
     },
     "execution_count": 93,
     "metadata": {},
     "output_type": "execute_result"
    }
   ],
   "source": [
    "from subprocess import call\n",
    "call(['python', '-m', 'nbconvert', 'Investigate_a_Dataset.ipynb'])"
   ]
  },
  {
   "cell_type": "code",
   "execution_count": null,
   "id": "552da2a8",
   "metadata": {},
   "outputs": [],
   "source": []
  }
 ],
 "metadata": {
  "kernelspec": {
   "display_name": "Python 3",
   "language": "python",
   "name": "python3"
  },
  "language_info": {
   "codemirror_mode": {
    "name": "ipython",
    "version": 3
   },
   "file_extension": ".py",
   "mimetype": "text/x-python",
   "name": "python",
   "nbconvert_exporter": "python",
   "pygments_lexer": "ipython3",
   "version": "3.8.8"
  }
 },
 "nbformat": 4,
 "nbformat_minor": 5
}
